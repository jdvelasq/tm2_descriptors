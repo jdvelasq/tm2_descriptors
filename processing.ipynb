{
 "cells": [
  {
   "cell_type": "code",
   "execution_count": 8,
   "metadata": {},
   "outputs": [],
   "source": [
    "def generate_complete_list_of_journals():\n",
    "\n",
    "    import glob\n",
    "    import pandas as pd\n",
    "\n",
    "    journal_names = glob.glob(\"scimago*.csv\")\n",
    "\n",
    "    records = []\n",
    "    for journal_name in journal_names:\n",
    "        records.append(\n",
    "            pd.read_csv(\n",
    "                journal_name,\n",
    "                sep=\";\",\n",
    "                on_bad_lines=\"skip\",\n",
    "            )\n",
    "        )\n",
    "    records = pd.concat(records)\n",
    "    records = records[[\"Title\"]]\n",
    "    records = records.drop_duplicates()\n",
    "    records = records.sort_values(by=\"Title\")\n",
    "    records.to_csv(\"complete_list_of_journals.txt\", index=False, header=False)\n",
    "\n",
    "\n",
    "# generate_complete_list_of_journals()"
   ]
  },
  {
   "cell_type": "code",
   "execution_count": 14,
   "metadata": {},
   "outputs": [],
   "source": [
    "def process_candidates():\n",
    "\n",
    "    import glob\n",
    "    import pandas as pd\n",
    "\n",
    "    #\n",
    "    # Extract existent source titles\n",
    "    existent_titles = glob.glob(\"journals/*.csv\")\n",
    "    existent_titles = [title[:-4] for title in existent_titles]\n",
    "\n",
    "    #\n",
    "    # Load candidate records\n",
    "    file_names = glob.glob(\"candidates/*.csv\")\n",
    "\n",
    "    records = []\n",
    "    for file_name in file_names:\n",
    "        records.append(\n",
    "            pd.read_csv(\n",
    "                file_name,\n",
    "                sep=\",\",\n",
    "                on_bad_lines=\"skip\",\n",
    "            )\n",
    "        )\n",
    "    records = pd.concat(records)\n",
    "\n",
    "    #\n",
    "    # Extract candidate source titles\n",
    "    candidate_titles = records[[\"Source title\"]].drop_duplicates()\n",
    "\n",
    "    #\n",
    "    # Remove existent titles from candidate titles\n",
    "    candidate_titles = candidate_titles[\n",
    "        ~candidate_titles[\"Source title\"].isin(existent_titles)\n",
    "    ]\n",
    "\n",
    "    print(candidate_titles)\n",
    "\n",
    "    #\n",
    "    # For each candidate title, filter the records and save the dataframe to a separate CSV file\n",
    "    # in the journals directory\n",
    "    for candidate_title in candidate_titles[\"Source title\"]:\n",
    "        records[records[\"Source title\"] == candidate_title].to_csv(\n",
    "            f\"journals/{candidate_title.replace('/', ' ')}.csv\",\n",
    "            index=False,\n",
    "            sep=\",\",\n",
    "        )\n",
    "\n",
    "\n",
    "process_candidates()"
   ]
  },
  {
   "cell_type": "code",
   "execution_count": null,
   "metadata": {},
   "outputs": [],
   "source": []
  },
  {
   "cell_type": "code",
   "execution_count": null,
   "metadata": {},
   "outputs": [],
   "source": []
  }
 ],
 "metadata": {
  "kernelspec": {
   "display_name": ".venv",
   "language": "python",
   "name": "python3"
  },
  "language_info": {
   "codemirror_mode": {
    "name": "ipython",
    "version": 3
   },
   "file_extension": ".py",
   "mimetype": "text/x-python",
   "name": "python",
   "nbconvert_exporter": "python",
   "pygments_lexer": "ipython3",
   "version": "3.9.6"
  }
 },
 "nbformat": 4,
 "nbformat_minor": 2
}
